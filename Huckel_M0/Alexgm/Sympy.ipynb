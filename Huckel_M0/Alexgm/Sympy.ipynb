{
 "cells": [
  {
   "cell_type": "code",
   "execution_count": 15,
   "metadata": {
    "collapsed": true
   },
   "outputs": [],
   "source": [
    "from sympy import *\n",
    "from sympy import init_printing; init_printing(use_latex = 'mathjax')"
   ]
  },
  {
   "cell_type": "code",
   "execution_count": 33,
   "metadata": {
    "collapsed": false
   },
   "outputs": [
    {
     "data": {
      "text/latex": [
       "$$\\left ( x, \\quad l, \\quad m, \\quad \\hbar, \\quad W\\right )$$"
      ],
      "text/plain": [
       "(x, l, m, h̅, W)"
      ]
     },
     "execution_count": 33,
     "metadata": {},
     "output_type": "execute_result"
    }
   ],
   "source": [
    "var('x l m hbar W')"
   ]
  },
  {
   "cell_type": "code",
   "execution_count": 17,
   "metadata": {
    "collapsed": false
   },
   "outputs": [
    {
     "data": {
      "text/latex": [
       "$$x \\left(l - x\\right)$$"
      ],
      "text/plain": [
       "x⋅(l - x)"
      ]
     },
     "execution_count": 17,
     "metadata": {},
     "output_type": "execute_result"
    }
   ],
   "source": [
    "f_1 = x*(l - x)\n",
    "f_1"
   ]
  },
  {
   "cell_type": "code",
   "execution_count": 18,
   "metadata": {
    "collapsed": false
   },
   "outputs": [
    {
     "data": {
      "text/latex": [
       "$$-2$$"
      ],
      "text/plain": [
       "-2"
      ]
     },
     "execution_count": 18,
     "metadata": {},
     "output_type": "execute_result"
    }
   ],
   "source": [
    "dif = diff(f_1, x, 2)\n",
    "dif"
   ]
  },
  {
   "cell_type": "code",
   "execution_count": 19,
   "metadata": {
    "collapsed": false
   },
   "outputs": [
    {
     "data": {
      "text/latex": [
       "$$\\frac{\\hbar^{2} x}{m} \\left(l - x\\right)$$"
      ],
      "text/plain": [
       "  2          \n",
       "h̅ ⋅x⋅(l - x)\n",
       "─────────────\n",
       "      m      "
      ]
     },
     "execution_count": 19,
     "metadata": {},
     "output_type": "execute_result"
    }
   ],
   "source": [
    "inte = (-hbar**2/(2*m))*f_1*diff(f_1, x, 2)\n",
    "inte"
   ]
  },
  {
   "cell_type": "code",
   "execution_count": 22,
   "metadata": {
    "collapsed": false
   },
   "outputs": [
    {
     "data": {
      "text/latex": [
       "$$\\int_{0}^{l} \\frac{\\hbar^{2} x}{m} \\left(l - x\\right)\\, dx$$"
      ],
      "text/plain": [
       "l                 \n",
       "⌠                 \n",
       "⎮   2             \n",
       "⎮ h̅ ⋅x⋅(l - x)   \n",
       "⎮ ───────────── dx\n",
       "⎮       m         \n",
       "⌡                 \n",
       "0                 "
      ]
     },
     "execution_count": 22,
     "metadata": {},
     "output_type": "execute_result"
    }
   ],
   "source": [
    "Integral(inte, (x, 0, l))"
   ]
  },
  {
   "cell_type": "code",
   "execution_count": 27,
   "metadata": {
    "collapsed": false
   },
   "outputs": [
    {
     "data": {
      "text/latex": [
       "$$\\frac{\\hbar^{2} l^{3}}{6 m}$$"
      ],
      "text/plain": [
       "  2  3\n",
       "h̅ ⋅l \n",
       "──────\n",
       " 6⋅m  "
      ]
     },
     "execution_count": 27,
     "metadata": {},
     "output_type": "execute_result"
    }
   ],
   "source": [
    "h11 = integrate(inte, (x, 0, l))\n",
    "h11"
   ]
  },
  {
   "cell_type": "code",
   "execution_count": 28,
   "metadata": {
    "collapsed": false
   },
   "outputs": [
    {
     "data": {
      "text/latex": [
       "$$\\frac{\\hbar^{2} l^{7}}{105 m}$$"
      ],
      "text/plain": [
       "  2  7\n",
       "h̅ ⋅l \n",
       "──────\n",
       "105⋅m "
      ]
     },
     "execution_count": 28,
     "metadata": {},
     "output_type": "execute_result"
    }
   ],
   "source": [
    "f_2 = x**2*(l - x)**2\n",
    "inte_2 = (-hbar**2/(2*m))*f_2*diff(f_2, x, 2)\n",
    "h22 = integrate(inte_2, (x, 0, l))\n",
    "h22"
   ]
  },
  {
   "cell_type": "code",
   "execution_count": 29,
   "metadata": {
    "collapsed": false
   },
   "outputs": [
    {
     "data": {
      "text/latex": [
       "$$\\frac{l^{5}}{30}$$"
      ],
      "text/plain": [
       " 5\n",
       "l \n",
       "──\n",
       "30"
      ]
     },
     "execution_count": 29,
     "metadata": {},
     "output_type": "execute_result"
    }
   ],
   "source": [
    "s11 = integrate(f_1**2, (x, 0, l))\n",
    "s11"
   ]
  },
  {
   "cell_type": "code",
   "execution_count": 31,
   "metadata": {
    "collapsed": false
   },
   "outputs": [
    {
     "data": {
      "text/latex": [
       "$$\\frac{l^{9}}{630}$$"
      ],
      "text/plain": [
       "  9\n",
       " l \n",
       "───\n",
       "630"
      ]
     },
     "execution_count": 31,
     "metadata": {},
     "output_type": "execute_result"
    }
   ],
   "source": [
    "s22 = integrate(f_2**2, (x, 0, l))\n",
    "s22"
   ]
  },
  {
   "cell_type": "code",
   "execution_count": 36,
   "metadata": {
    "collapsed": false
   },
   "outputs": [
    {
     "data": {
      "text/latex": [
       "$$\\left(- \\frac{W l^{5}}{30} + \\frac{\\hbar^{2} l^{3}}{6 m}\\right) \\left(- \\frac{W l^{9}}{630} + \\frac{\\hbar^{2} l^{7}}{105 m}\\right)$$"
      ],
      "text/plain": [
       "⎛     5     2  3⎞ ⎛     9     2  7⎞\n",
       "⎜  W⋅l    h̅ ⋅l ⎟ ⎜  W⋅l    h̅ ⋅l ⎟\n",
       "⎜- ──── + ──────⎟⋅⎜- ──── + ──────⎟\n",
       "⎝   30     6⋅m  ⎠ ⎝  630    105⋅m ⎠"
      ]
     },
     "execution_count": 36,
     "metadata": {},
     "output_type": "execute_result"
    }
   ],
   "source": [
    "w1 = (h11-s11*W)*(h22-s22*W)\n",
    "w1"
   ]
  },
  {
   "cell_type": "code",
   "execution_count": null,
   "metadata": {
    "collapsed": true
   },
   "outputs": [],
   "source": []
  }
 ],
 "metadata": {
  "kernelspec": {
   "display_name": "Python 3",
   "language": "python",
   "name": "python3"
  },
  "language_info": {
   "codemirror_mode": {
    "name": "ipython",
    "version": 3
   },
   "file_extension": ".py",
   "mimetype": "text/x-python",
   "name": "python",
   "nbconvert_exporter": "python",
   "pygments_lexer": "ipython3",
   "version": "3.5.1"
  }
 },
 "nbformat": 4,
 "nbformat_minor": 0
}
